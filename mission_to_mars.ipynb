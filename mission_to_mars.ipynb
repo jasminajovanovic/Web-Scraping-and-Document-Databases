{
 "cells": [
  {
   "cell_type": "code",
   "execution_count": 1,
   "metadata": {},
   "outputs": [],
   "source": [
    "\n",
    "from splinter import Browser\n",
    "from bs4 import BeautifulSoup\n",
    "import pandas as pd"
   ]
  },
  {
   "cell_type": "code",
   "execution_count": 2,
   "metadata": {},
   "outputs": [],
   "source": [
    "url_list = ['https://mars.nasa.gov/news/',\n",
    "            'https://www.jpl.nasa.gov/spaceimages/?search=&category=Mars',\n",
    "            'https://twitter.com/marswxreport?lang=en',\n",
    "            'https://space-facts.com/mars/',\n",
    "            'https://astrogeology.usgs.gov/search/results?q=hemisphere+enhanced&k1=target&v1=Mars']\n",
    "\n"
   ]
  },
  {
   "cell_type": "code",
   "execution_count": 3,
   "metadata": {},
   "outputs": [],
   "source": [
    "def getText(parent):\n",
    "    return ''.join(parent.find_all(text=True, recursive=False)).strip()\n",
    "\n",
    "def init_browser():\n",
    "    # @NOTE: Replace the path with your actual path to the chromedriver\n",
    "    executable_path = {\"executable_path\": \"chromedriver.exe\"}\n",
    "    return Browser(\"chrome\", **executable_path, headless=False)"
   ]
  },
  {
   "cell_type": "code",
   "execution_count": 4,
   "metadata": {},
   "outputs": [],
   "source": [
    "browser = init_browser()\n",
    "\n",
    "# get latest mars news\n",
    "try:\n",
    "    browser.visit(url_list[0])\n",
    "    soup = BeautifulSoup(browser.html, \"lxml\")\n",
    "    latest_news = soup.find(\"div\", class_=\"list_text\")\n",
    "    news_title = latest_news.find(\"div\", class_='content_title').text\n",
    "    news_p = latest_news.find(\"div\", class_='article_teaser_body').text\n",
    "except Exception as e:\n",
    "    print(f\"An error occured while scraping {url_list[0]}: {e}\")\n",
    "    news_title = ''\n",
    "    news_p = ''\n"
   ]
  },
  {
   "cell_type": "code",
   "execution_count": 5,
   "metadata": {},
   "outputs": [],
   "source": [
    "# get featured mars image\n",
    "try:\n",
    "    browser.visit(url_list[1])\n",
    "    soup = BeautifulSoup(browser.html, \"lxml\")\n",
    "    image = soup.find(\"div\", class_=\"carousel_items\")\n",
    "    relative_img_url = image.article['style'].split(\":\")[1].split(\"'\")[1]\n",
    "    featured_img_url = url_list[1].split(\n",
    "        'spaceimages')[0] + relative_img_url\n",
    "except Exception as e:\n",
    "    print(f\"An error occured while scraping {url_list[1]}: {e}\")\n",
    "    featured_img_url = ''\n"
   ]
  },
  {
   "cell_type": "code",
   "execution_count": 6,
   "metadata": {},
   "outputs": [],
   "source": [
    "# get latest mars weather report tweet\n",
    "try:\n",
    "    browser.visit(url_list[2])\n",
    "    soup = BeautifulSoup(browser.html, \"lxml\")\n",
    "    tweets = soup.find_all(\"div\", class_='js-tweet-text-container')\n",
    "    for tweet in tweets:\n",
    "        tweet_text = getText(tweet.p)\n",
    "        if 'InSight sol' in tweet_text:\n",
    "            mars_weather = tweet_text\n",
    "except Exception as e:\n",
    "    print(f\"An error occured while scraping {url_list[2]}: {e}\")\n",
    "    mars_weather = ''"
   ]
  },
  {
   "cell_type": "code",
   "execution_count": 7,
   "metadata": {},
   "outputs": [],
   "source": [
    "# get mars facts\n",
    "try:\n",
    "    browser.visit(url_list[3])\n",
    "    tables = pd.read_html(url_list[3])\n",
    "    table = tables[0]\n",
    "    table.columns = ['Parameter', 'Value']\n",
    "    table.set_index('Parameter')\n",
    "except Exception as e:\n",
    "    print(f\"An error occured while scraping {url_list[3]}: {e}\")\n",
    "    table = pd.DataFrame()"
   ]
  },
  {
   "cell_type": "code",
   "execution_count": 8,
   "metadata": {},
   "outputs": [],
   "source": [
    "\n",
    "# get images of mars hemishperes, follow image link to obtain full size image\n",
    "try:\n",
    "    browser.visit(url_list[4])\n",
    "    soup = BeautifulSoup(browser.html, 'lxml')\n",
    "    items = soup.find_all(\"div\", class_=\"item\")\n",
    "    base_url = url_list[4].split('search')[0]\n",
    "    hemisphere_link_urls = []\n",
    "    for item in items:\n",
    "        title = item.div.h3.text\n",
    "        browser.visit(url_list[4])\n",
    "        browser.click_link_by_partial_text(title)\n",
    "        soup = BeautifulSoup(browser.html, 'lxml')\n",
    "        relative_img_url = soup.find(\"img\", class_=\"wide-image\")['src']\n",
    "        full_img_url = base_url + relative_img_url\n",
    "        hemisphere_link_urls.append(\n",
    "            {\"title\": title, \"img_url\": full_img_url})\n",
    "except Exception as e:\n",
    "    print(f\"An error occured while scraping {url_list[3]}: {e}\")\n",
    "    hemisphere_link_urls = ''"
   ]
  },
  {
   "cell_type": "code",
   "execution_count": 9,
   "metadata": {},
   "outputs": [],
   "source": [
    " marsDict = {\n",
    "        'news_title': news_title,\n",
    "        'news_p': news_p,\n",
    "        'featured_img_url': featured_img_url,\n",
    "        'mars_weather': mars_weather,\n",
    "        'table': table.to_html(index=False),\n",
    "        'hemisphere_imgs': hemisphere_link_urls\n",
    "    }\n",
    "\n",
    "browser.quit()"
   ]
  },
  {
   "cell_type": "code",
   "execution_count": 10,
   "metadata": {},
   "outputs": [
    {
     "data": {
      "text/plain": [
       "{'news_title': \"Curiosity Tastes First Sample in 'Clay-Bearing Unit'\",\n",
       " 'news_p': 'This new region on Mars might reveal more about the role of water on Mount Sharp.',\n",
       " 'featured_img_url': 'https://www.jpl.nasa.gov//spaceimages/images/wallpaper/PIA16225-1920x1200.jpg',\n",
       " 'mars_weather': 'InSight sol 117 (2019-03-26) low -107.3ºC (-161.1ºF) high -17.1ºC (1.2ºF)\\npressure at 7.30 hPa',\n",
       " 'table': '<table border=\"1\" class=\"dataframe\">\\n  <thead>\\n    <tr style=\"text-align: right;\">\\n      <th>Parameter</th>\\n      <th>Value</th>\\n    </tr>\\n  </thead>\\n  <tbody>\\n    <tr>\\n      <td>Equatorial Diameter:</td>\\n      <td>6,792 km</td>\\n    </tr>\\n    <tr>\\n      <td>Polar Diameter:</td>\\n      <td>6,752 km</td>\\n    </tr>\\n    <tr>\\n      <td>Mass:</td>\\n      <td>6.42 x 10^23 kg (10.7% Earth)</td>\\n    </tr>\\n    <tr>\\n      <td>Moons:</td>\\n      <td>2 (Phobos &amp; Deimos)</td>\\n    </tr>\\n    <tr>\\n      <td>Orbit Distance:</td>\\n      <td>227,943,824 km (1.52 AU)</td>\\n    </tr>\\n    <tr>\\n      <td>Orbit Period:</td>\\n      <td>687 days (1.9 years)</td>\\n    </tr>\\n    <tr>\\n      <td>Surface Temperature:</td>\\n      <td>-153 to 20 °C</td>\\n    </tr>\\n    <tr>\\n      <td>First Record:</td>\\n      <td>2nd millennium BC</td>\\n    </tr>\\n    <tr>\\n      <td>Recorded By:</td>\\n      <td>Egyptian astronomers</td>\\n    </tr>\\n  </tbody>\\n</table>',\n",
       " 'hemisphere_imgs': [{'title': 'Cerberus Hemisphere Enhanced',\n",
       "   'img_url': 'https://astrogeology.usgs.gov//cache/images/cfa62af2557222a02478f1fcd781d445_cerberus_enhanced.tif_full.jpg'},\n",
       "  {'title': 'Schiaparelli Hemisphere Enhanced',\n",
       "   'img_url': 'https://astrogeology.usgs.gov//cache/images/3cdd1cbf5e0813bba925c9030d13b62e_schiaparelli_enhanced.tif_full.jpg'},\n",
       "  {'title': 'Syrtis Major Hemisphere Enhanced',\n",
       "   'img_url': 'https://astrogeology.usgs.gov//cache/images/ae209b4e408bb6c3e67b6af38168cf28_syrtis_major_enhanced.tif_full.jpg'},\n",
       "  {'title': 'Valles Marineris Hemisphere Enhanced',\n",
       "   'img_url': 'https://astrogeology.usgs.gov//cache/images/7cf2da4bf549ed01c17f206327be4db7_valles_marineris_enhanced.tif_full.jpg'}]}"
      ]
     },
     "execution_count": 10,
     "metadata": {},
     "output_type": "execute_result"
    }
   ],
   "source": [
    "marsDict"
   ]
  }
 ],
 "metadata": {
  "kernelspec": {
   "display_name": "Python [conda env:PythonData]",
   "language": "python",
   "name": "pythondata"
  },
  "language_info": {
   "codemirror_mode": {
    "name": "ipython",
    "version": 3
   },
   "file_extension": ".py",
   "mimetype": "text/x-python",
   "name": "python",
   "nbconvert_exporter": "python",
   "pygments_lexer": "ipython3",
   "version": "3.7.1"
  }
 },
 "nbformat": 4,
 "nbformat_minor": 2
}
